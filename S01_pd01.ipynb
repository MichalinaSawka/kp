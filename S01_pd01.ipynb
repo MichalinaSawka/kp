{
  "cells": [
    {
      "cell_type": "code",
      "source": [
        "wiek = input('Ile masz lat ?')"
      ],
      "outputs": [
        {
          "output_type": "stream",
          "name": "stdout",
          "text": [
            "Ile masz lat ?22\n"
          ]
        }
      ],
      "execution_count": 13,
      "metadata": {
        "collapsed": false
      }
    },
    {
      "cell_type": "code",
      "source": [
        "imie = input('Jak się nazywasz ?')"
      ],
      "outputs": [
        {
          "output_type": "stream",
          "name": "stdout",
          "text": [
            "Jak się nazywasz ?Michalina\n"
          ]
        }
      ],
      "execution_count": 14,
      "metadata": {
        "collapsed": false
      }
    },
    {
      "cell_type": "code",
      "source": [
        "print(\"Nazywasz się %s\" %imie, \"i masz %s.\" %wiek)"
      ],
      "outputs": [
        {
          "output_type": "stream",
          "name": "stdout",
          "text": [
            "Nazywasz się Michalina i masz 22.\n"
          ]
        }
      ],
      "execution_count": 17,
      "metadata": {
        "collapsed": false
      }
    },
    {
      "cell_type": "code",
      "source": [],
      "outputs": [],
      "execution_count": null,
      "metadata": {
        "collapsed": true
      }
    }
  ],
  "metadata": {
    "kernelspec": {
      "display_name": "Python 3",
      "language": "python",
      "name": "python3"
    },
    "language_info": {
      "codemirror_mode": {
        "name": "ipython",
        "version": 3
      },
      "file_extension": ".py",
      "mimetype": "text/x-python",
      "name": "python",
      "nbconvert_exporter": "python",
      "pygments_lexer": "ipython3",
      "version": "3.6.0"
    },
    "nteract": {
      "version": "0.3.4"
    }
  },
  "nbformat": 4,
  "nbformat_minor": 2
}